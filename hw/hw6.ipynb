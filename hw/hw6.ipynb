{
  "cells": [
    {
      "cell_type": "markdown",
      "source": [
        "# Часть 1. Теория"
      ],
      "metadata": {
        "id": "7a8mSNO7XhlP"
      }
    },
    {
      "cell_type": "markdown",
      "source": [
        "Реализуйте `kernel SVM` с ипользованием пакета `optimize` (как было на практике) с использованием полиномиального ядра. Продемонстрируйте результаты, сравните с библиотечным вариантом, на наборе данных типа концентрических окружностей"
      ],
      "metadata": {
        "id": "3eWqE0NSXrDa"
      }
    },
    {
      "cell_type": "code",
      "source": [
        "import numpy as np\n",
        "import matplotlib.pyplot as plt\n",
        "from sklearn.datasets import make_circles\n",
        "from sklearn.svm import SVC\n",
        "\n",
        "X, y = make_circles(n_samples=200, factor=0.5, noise=0.05, random_state=42)\n",
        "\n",
        "y = np.where(y == 0, -1, 1)\n",
        "\n",
        "plt.figure(figsize=(6,5))\n",
        "plt.scatter(X[y==1][:,0], X[y==1][:,1], label='class +1')\n",
        "plt.scatter(X[y==-1][:,0], X[y==-1][:,1], label='class -1')\n",
        "plt.legend()\n",
        "plt.show()\n"
      ],
      "metadata": {
        "colab": {
          "base_uri": "https://localhost:8080/",
          "height": 445
        },
        "id": "7IE8K6l7lLGv",
        "outputId": "f3e71726-a6ff-4ee5-fa26-76a7a124fd14"
      },
      "execution_count": null,
      "outputs": [
        {
          "output_type": "display_data",
          "data": {
            "text/plain": [
              "<Figure size 600x500 with 1 Axes>"
            ],
            "image/png": "[encoded data removed]"
          },
          "metadata": {}
        }
      ]
    },
    {
      "cell_type": "code",
      "source": [
        "def polynomial_kernel(X, Z, degree=2, c=1.0):\n",
        "    return (X @ Z.T + c)**degree"
      ],
      "metadata": {
        "id": "kk6rvlJalNJj"
      },
      "execution_count": null,
      "outputs": []
    },
    {
      "cell_type": "code",
      "source": [
        "def compute_kernel_matrix(X, kernel_func, **kernel_params):\n",
        "    n = X.shape[0]\n",
        "    K = kernel_func(X, X, **kernel_params)\n",
        "    return K\n",
        "\n",
        "K = compute_kernel_matrix(X, polynomial_kernel, degree=2, c=1.0)"
      ],
      "metadata": {
        "id": "Otj8R8yQmq7_"
      },
      "execution_count": null,
      "outputs": []
    },
    {
      "cell_type": "code",
      "source": [
        "import numpy as np\n",
        "from scipy.optimize import minimize\n",
        "\n",
        "def objective(alpha, y, K):\n",
        "    n = len(alpha)\n",
        "    s1 = np.sum(alpha)\n",
        "    alpha_y = alpha * y\n",
        "    s2 = np.sum((alpha_y[:,None] * alpha_y[None,:]) * K)\n",
        "\n",
        "    return -s1 + 0.5*s2\n",
        "\n",
        "def objective_grad(alpha, y, K):\n",
        "    alpha_y = alpha * y\n",
        "    v = alpha_y @ K\n",
        "    return -np.ones(len(alpha)) + y * v\n"
      ],
      "metadata": {
        "id": "xyoXoO6ElPUr"
      },
      "execution_count": null,
      "outputs": []
    },
    {
      "cell_type": "code",
      "source": [
        "def zerofun(alpha, y):\n",
        "    return np.dot(alpha, y)\n",
        "\n",
        "C = 1.0\n",
        "n = X.shape[0]\n",
        "alpha0 = np.zeros(n)\n",
        "\n",
        "cons = (\n",
        "    {'type':'eq', 'fun': lambda a: zerofun(a, y)},\n",
        ")\n",
        "bnds = [(0, C) for _ in range(n)]\n",
        "\n",
        "res = minimize(fun=objective,\n",
        "               x0=alpha0,\n",
        "               args=(y, K),\n",
        "               method='SLSQP',\n",
        "               jac=objective_grad,\n",
        "               bounds=bnds,\n",
        "               constraints=cons)\n",
        "\n",
        "alpha_opt = res.x\n"
      ],
      "metadata": {
        "id": "LbnFSKJRmwoo"
      },
      "execution_count": null,
      "outputs": []
    },
    {
      "cell_type": "code",
      "source": [
        "def compute_b(alpha, y, K, tol=1e-5):\n",
        "    support_idx = np.where((alpha > tol) & (alpha < C - tol))[0]\n",
        "    b_vals = []\n",
        "    for i in support_idx:\n",
        "        val = (1/y[i]) - np.sum(alpha * y * K[:, i])\n",
        "        b_vals.append(val)\n",
        "    return np.mean(b_vals) if len(b_vals) > 0 else 0.0\n",
        "\n",
        "b_opt = compute_b(alpha_opt, y, K)\n"
      ],
      "metadata": {
        "id": "UwNpRWsbm111"
      },
      "execution_count": null,
      "outputs": []
    },
    {
      "cell_type": "code",
      "source": [
        "def svm_predict(X_train, y_train, alpha, b, X_test, kernel_func, **kernel_params):\n",
        "    K_test = kernel_func(X_train, X_test, **kernel_params)\n",
        "    decision = (alpha * y_train)[:,None] * K_test\n",
        "    scores = np.sum(decision, axis=0) + b\n",
        "    return np.sign(scores), scores\n"
      ],
      "metadata": {
        "id": "tq92smPym4AN"
      },
      "execution_count": null,
      "outputs": []
    },
    {
      "cell_type": "code",
      "source": [
        "y_pred, scores = svm_predict(X, y, alpha_opt, b_opt, X, polynomial_kernel, degree=2, c=1.0)\n",
        "acc_train = np.mean(y_pred == y)\n",
        "print(\"Accuracy (train, custom SVM) =\", acc_train)\n",
        "\n",
        "clf = SVC(kernel='poly', degree=2, coef0=1.0, C=1.0)\n",
        "clf.fit(X, y)\n",
        "acc_train_lib = clf.score(X, y)\n",
        "print(\"Accuracy (train, sklearn) =\", acc_train_lib)"
      ],
      "metadata": {
        "colab": {
          "base_uri": "https://localhost:8080/"
        },
        "id": "A51wjWMCm6tj",
        "outputId": "3b014236-d99c-4e63-f934-e1cdf4723c58"
      },
      "execution_count": null,
      "outputs": [
        {
          "output_type": "stream",
          "name": "stdout",
          "text": [
            "Accuracy (train, custom SVM) = 1.0\n",
            "Accuracy (train, sklearn) = 1.0\n"
          ]
        }
      ]
    },
    {
      "cell_type": "code",
      "source": [
        "xx, yy = np.meshgrid(np.linspace(-1.5, 1.5, 200),\n",
        "                     np.linspace(-1.5, 1.5, 200))\n",
        "grid = np.c_[xx.ravel(), yy.ravel()]\n",
        "\n",
        "y_pred_grid, _ = svm_predict(X, y, alpha_opt, b_opt, grid, polynomial_kernel, degree=2, c=1.0)\n",
        "y_pred_grid = y_pred_grid.reshape(xx.shape)\n",
        "\n",
        "plt.figure(figsize=(6,6))\n",
        "plt.contourf(xx, yy, y_pred_grid, alpha=0.2, cmap=plt.cm.coolwarm)\n",
        "plt.scatter(X[y==1][:,0], X[y==1][:,1], label='class +1')\n",
        "plt.scatter(X[y==-1][:,0], X[y==-1][:,1], label='class -1')\n",
        "plt.title(\"Кастомный Kernel SVM (полиномиальное ядро)\")\n",
        "plt.legend()\n",
        "plt.show()\n"
      ],
      "metadata": {
        "colab": {
          "base_uri": "https://localhost:8080/",
          "height": 545
        },
        "id": "-4rKjrkhm9eD",
        "outputId": "5331de97-425d-475c-c8c8-7df60d1b9dd4"
      },
      "execution_count": null,
      "outputs": [
        {
          "output_type": "display_data",
          "data": {
            "text/plain": [
              "<Figure size 600x600 with 1 Axes>"
            ],
            "image/png": "[encoded data removed]"
          },
          "metadata": {}
        }
      ]
    },
    {
      "cell_type": "markdown",
      "metadata": {
        "id": "D9XeOec_WWiy"
      },
      "source": [
        "# Часть 2. Детектирование аномалий на основе One-Class SVM\n",
        "Рассмотрим задачу детектирование сетевых атак: Intrusion Detection. Будем использовать данные из KDD Cup 1999 Competition ( http://kdd.ics.uci.edu/databases/kddcup99/task.html). Полная база данных содержит около пяти миллионов записей о сетевых соединениях и различных типах атаках. Mы будем работать подвыборкой в 10% от оригинального датасета, отсутствие атаки обозначено как “normal”, а ее наличие — как “abnormal”."
      ]
    },
    {
      "cell_type": "code",
      "source": [
        "from scipy import io\n",
        "import numpy as np\n",
        "import matplotlib.pyplot as plt\n",
        "from scipy import stats\n",
        "%matplotlib inline\n",
        "\n",
        "np.random.seed(0)"
      ],
      "metadata": {
        "id": "iv6RnxhpYWb2"
      },
      "execution_count": null,
      "outputs": []
    },
    {
      "cell_type": "code",
      "execution_count": null,
      "metadata": {
        "id": "9jaJVUdBWWiy"
      },
      "outputs": [],
      "source": [
        "from sklearn.svm import OneClassSVM\n",
        "import pandas as pd\n",
        "import numpy as np\n",
        "import matplotlib.pyplot as plt\n",
        "%matplotlib inline\n",
        "np.random.seed(0)\n",
        "\n",
        "from sklearn.metrics import accuracy_score\n",
        "from sklearn.model_selection import GridSearchCV\n",
        "from sklearn.metrics import make_scorer\n",
        "\n",
        "from sklearn.model_selection import train_test_split\n",
        "\n",
        "from sklearn.utils.extmath import randomized_svd\n",
        "from sklearn.decomposition import TruncatedSVD as TSVD"
      ]
    },
    {
      "cell_type": "markdown",
      "metadata": {
        "id": "frIpF4cjWWiy"
      },
      "source": [
        "Считаем данные:"
      ]
    },
    {
      "cell_type": "code",
      "execution_count": null,
      "metadata": {
        "id": "KBUgpKpOWWiy"
      },
      "outputs": [],
      "source": [
        "train = pd.read_csv('train')\n",
        "test = pd.read_csv('test', delimiter = ';')\n",
        "X_test = np.array(test.drop(test.columns[[0, 1, 2, 3]], axis=1))\n",
        "np.save('test_np', X_test)"
      ]
    },
    {
      "cell_type": "code",
      "execution_count": null,
      "metadata": {
        "id": "RrjaQeSUWWiy",
        "colab": {
          "base_uri": "https://localhost:8080/",
          "height": 392
        },
        "outputId": "489b30b7-2ca3-404f-a77e-5a729ddce837"
      },
      "outputs": [
        {
          "output_type": "execute_result",
          "data": {
            "text/plain": [
              "   0  tcp  http  SF  181  5450  0.1  0.2  0.3  0.4  ...  9.1  1.00.1  0.00.6  \\\n",
              "0  0  tcp  http  SF  239   486    0    0    0    0  ...   19     1.0     0.0   \n",
              "1  0  tcp  http  SF  235  1337    0    0    0    0  ...   29     1.0     0.0   \n",
              "2  0  tcp  http  SF  219  1337    0    0    0    0  ...   39     1.0     0.0   \n",
              "3  0  tcp  http  SF  217  2032    0    0    0    0  ...   49     1.0     0.0   \n",
              "4  0  tcp  http  SF  217  2032    0    0    0    0  ...   59     1.0     0.0   \n",
              "5  0  tcp  http  SF  212  1940    0    0    0    0  ...   69     1.0     0.0   \n",
              "6  0  tcp  http  SF  159  4087    0    0    0    0  ...   79     1.0     0.0   \n",
              "7  0  tcp  http  SF  210   151    0    0    0    0  ...   89     1.0     0.0   \n",
              "8  0  tcp  http  SF  212   786    0    0    0    1  ...   99     1.0     0.0   \n",
              "9  0  tcp  http  SF  210   624    0    0    0    0  ...  109     1.0     0.0   \n",
              "\n",
              "   0.11  0.00.7  0.00.8  0.00.9  0.00.10  0.00.11  normal.  \n",
              "0  0.05    0.00     0.0     0.0      0.0      0.0  normal.  \n",
              "1  0.03    0.00     0.0     0.0      0.0      0.0  normal.  \n",
              "2  0.03    0.00     0.0     0.0      0.0      0.0  normal.  \n",
              "3  0.02    0.00     0.0     0.0      0.0      0.0  normal.  \n",
              "4  0.02    0.00     0.0     0.0      0.0      0.0  normal.  \n",
              "5  1.00    0.04     0.0     0.0      0.0      0.0  normal.  \n",
              "6  0.09    0.04     0.0     0.0      0.0      0.0  normal.  \n",
              "7  0.12    0.04     0.0     0.0      0.0      0.0  normal.  \n",
              "8  0.12    0.05     0.0     0.0      0.0      0.0  normal.  \n",
              "9  0.06    0.05     0.0     0.0      0.0      0.0  normal.  \n",
              "\n",
              "[10 rows x 42 columns]"
            ],
            "text/html": [
              "\n",
              "  <div id=\"df-b2450929-a1f9-4bbb-80f9-3fd075af91bb\" class=\"colab-df-container\">\n",
              "    <div>\n",
              "<style scoped>\n",
              "    .dataframe tbody tr th:only-of-type {\n",
              "        vertical-align: middle;\n",
              "    }\n",
              "\n",
              "    .dataframe tbody tr th {\n",
              "        vertical-align: top;\n",
              "    }\n",
              "\n",
              "    .dataframe thead th {\n",
              "        text-align: right;\n",
              "    }\n",
              "</style>\n",
              "<table border=\"1\" class=\"dataframe\">\n",
              "  <thead>\n",
              "    <tr style=\"text-align: right;\">\n",
              "      <th></th>\n",
              "      <th>0</th>\n",
              "      <th>tcp</th>\n",
              "      <th>http</th>\n",
              "      <th>SF</th>\n",
              "      <th>181</th>\n",
              "      <th>5450</th>\n",
              "      <th>0.1</th>\n",
              "      <th>0.2</th>\n",
              "      <th>0.3</th>\n",
              "      <th>0.4</th>\n",
              "      <th>...</th>\n",
              "      <th>9.1</th>\n",
              "      <th>1.00.1</th>\n",
              "      <th>0.00.6</th>\n",
              "      <th>0.11</th>\n",
              "      <th>0.00.7</th>\n",
              "      <th>0.00.8</th>\n",
              "      <th>0.00.9</th>\n",
              "      <th>0.00.10</th>\n",
              "      <th>0.00.11</th>\n",
              "      <th>normal.</th>\n",
              "    </tr>\n",
              "  </thead>\n",
              "  <tbody>\n",
              "    <tr>\n",
              "      <th>0</th>\n",
              "      <td>0</td>\n",
              "      <td>tcp</td>\n",
              "      <td>http</td>\n",
              "      <td>SF</td>\n",
              "      <td>239</td>\n",
              "      <td>486</td>\n",
              "      <td>0</td>\n",
              "      <td>0</td>\n",
              "      <td>0</td>\n",
              "      <td>0</td>\n",
              "      <td>...</td>\n",
              "      <td>19</td>\n",
              "      <td>1.0</td>\n",
              "      <td>0.0</td>\n",
              "      <td>0.05</td>\n",
              "      <td>0.00</td>\n",
              "      <td>0.0</td>\n",
              "      <td>0.0</td>\n",
              "      <td>0.0</td>\n",
              "      <td>0.0</td>\n",
              "      <td>normal.</td>\n",
              "    </tr>\n",
              "    <tr>\n",
              "      <th>1</th>\n",
              "      <td>0</td>\n",
              "      <td>tcp</td>\n",
              "      <td>http</td>\n",
              "      <td>SF</td>\n",
              "      <td>235</td>\n",
              "      <td>1337</td>\n",
              "      <td>0</td>\n",
              "      <td>0</td>\n",
              "      <td>0</td>\n",
              "      <td>0</td>\n",
              "      <td>...</td>\n",
              "      <td>29</td>\n",
              "      <td>1.0</td>\n",
              "      <td>0.0</td>\n",
              "      <td>0.03</td>\n",
              "      <td>0.00</td>\n",
              "      <td>0.0</td>\n",
              "      <td>0.0</td>\n",
              "      <td>0.0</td>\n",
              "      <td>0.0</td>\n",
              "      <td>normal.</td>\n",
              "    </tr>\n",
              "    <tr>\n",
              "      <th>2</th>\n",
              "      <td>0</td>\n",
              "      <td>tcp</td>\n",
              "      <td>http</td>\n",
              "      <td>SF</td>\n",
              "      <td>219</td>\n",
              "      <td>1337</td>\n",
              "      <td>0</td>\n",
              "      <td>0</td>\n",
              "      <td>0</td>\n",
              "      <td>0</td>\n",
              "      <td>...</td>\n",
              "      <td>39</td>\n",
              "      <td>1.0</td>\n",
              "      <td>0.0</td>\n",
              "      <td>0.03</td>\n",
              "      <td>0.00</td>\n",
              "      <td>0.0</td>\n",
              "      <td>0.0</td>\n",
              "      <td>0.0</td>\n",
              "      <td>0.0</td>\n",
              "      <td>normal.</td>\n",
              "    </tr>\n",
              "    <tr>\n",
              "      <th>3</th>\n",
              "      <td>0</td>\n",
              "      <td>tcp</td>\n",
              "      <td>http</td>\n",
              "      <td>SF</td>\n",
              "      <td>217</td>\n",
              "      <td>2032</td>\n",
              "      <td>0</td>\n",
              "      <td>0</td>\n",
              "      <td>0</td>\n",
              "      <td>0</td>\n",
              "      <td>...</td>\n",
              "      <td>49</td>\n",
              "      <td>1.0</td>\n",
              "      <td>0.0</td>\n",
              "      <td>0.02</td>\n",
              "      <td>0.00</td>\n",
              "      <td>0.0</td>\n",
              "      <td>0.0</td>\n",
              "      <td>0.0</td>\n",
              "      <td>0.0</td>\n",
              "      <td>normal.</td>\n",
              "    </tr>\n",
              "    <tr>\n",
              "      <th>4</th>\n",
              "      <td>0</td>\n",
              "      <td>tcp</td>\n",
              "      <td>http</td>\n",
              "      <td>SF</td>\n",
              "      <td>217</td>\n",
              "      <td>2032</td>\n",
              "      <td>0</td>\n",
              "      <td>0</td>\n",
              "      <td>0</td>\n",
              "      <td>0</td>\n",
              "      <td>...</td>\n",
              "      <td>59</td>\n",
              "      <td>1.0</td>\n",
              "      <td>0.0</td>\n",
              "      <td>0.02</td>\n",
              "      <td>0.00</td>\n",
              "      <td>0.0</td>\n",
              "      <td>0.0</td>\n",
              "      <td>0.0</td>\n",
              "      <td>0.0</td>\n",
              "      <td>normal.</td>\n",
              "    </tr>\n",
              "    <tr>\n",
              "      <th>5</th>\n",
              "      <td>0</td>\n",
              "      <td>tcp</td>\n",
              "      <td>http</td>\n",
              "      <td>SF</td>\n",
              "      <td>212</td>\n",
              "      <td>1940</td>\n",
              "      <td>0</td>\n",
              "      <td>0</td>\n",
              "      <td>0</td>\n",
              "      <td>0</td>\n",
              "      <td>...</td>\n",
              "      <td>69</td>\n",
              "      <td>1.0</td>\n",
              "      <td>0.0</td>\n",
              "      <td>1.00</td>\n",
              "      <td>0.04</td>\n",
              "      <td>0.0</td>\n",
              "      <td>0.0</td>\n",
              "      <td>0.0</td>\n",
              "      <td>0.0</td>\n",
              "      <td>normal.</td>\n",
              "    </tr>\n",
              "    <tr>\n",
              "      <th>6</th>\n",
              "      <td>0</td>\n",
              "      <td>tcp</td>\n",
              "      <td>http</td>\n",
              "      <td>SF</td>\n",
              "      <td>159</td>\n",
              "      <td>4087</td>\n",
              "      <td>0</td>\n",
              "      <td>0</td>\n",
              "      <td>0</td>\n",
              "      <td>0</td>\n",
              "      <td>...</td>\n",
              "      <td>79</td>\n",
              "      <td>1.0</td>\n",
              "      <td>0.0</td>\n",
              "      <td>0.09</td>\n",
              "      <td>0.04</td>\n",
              "      <td>0.0</td>\n",
              "      <td>0.0</td>\n",
              "      <td>0.0</td>\n",
              "      <td>0.0</td>\n",
              "      <td>normal.</td>\n",
              "    </tr>\n",
              "    <tr>\n",
              "      <th>7</th>\n",
              "      <td>0</td>\n",
              "      <td>tcp</td>\n",
              "      <td>http</td>\n",
              "      <td>SF</td>\n",
              "      <td>210</td>\n",
              "      <td>151</td>\n",
              "      <td>0</td>\n",
              "      <td>0</td>\n",
              "      <td>0</td>\n",
              "      <td>0</td>\n",
              "      <td>...</td>\n",
              "      <td>89</td>\n",
              "      <td>1.0</td>\n",
              "      <td>0.0</td>\n",
              "      <td>0.12</td>\n",
              "      <td>0.04</td>\n",
              "      <td>0.0</td>\n",
              "      <td>0.0</td>\n",
              "      <td>0.0</td>\n",
              "      <td>0.0</td>\n",
              "      <td>normal.</td>\n",
              "    </tr>\n",
              "    <tr>\n",
              "      <th>8</th>\n",
              "      <td>0</td>\n",
              "      <td>tcp</td>\n",
              "      <td>http</td>\n",
              "      <td>SF</td>\n",
              "      <td>212</td>\n",
              "      <td>786</td>\n",
              "      <td>0</td>\n",
              "      <td>0</td>\n",
              "      <td>0</td>\n",
              "      <td>1</td>\n",
              "      <td>...</td>\n",
              "      <td>99</td>\n",
              "      <td>1.0</td>\n",
              "      <td>0.0</td>\n",
              "      <td>0.12</td>\n",
              "      <td>0.05</td>\n",
              "      <td>0.0</td>\n",
              "      <td>0.0</td>\n",
              "      <td>0.0</td>\n",
              "      <td>0.0</td>\n",
              "      <td>normal.</td>\n",
              "    </tr>\n",
              "    <tr>\n",
              "      <th>9</th>\n",
              "      <td>0</td>\n",
              "      <td>tcp</td>\n",
              "      <td>http</td>\n",
              "      <td>SF</td>\n",
              "      <td>210</td>\n",
              "      <td>624</td>\n",
              "      <td>0</td>\n",
              "      <td>0</td>\n",
              "      <td>0</td>\n",
              "      <td>0</td>\n",
              "      <td>...</td>\n",
              "      <td>109</td>\n",
              "      <td>1.0</td>\n",
              "      <td>0.0</td>\n",
              "      <td>0.06</td>\n",
              "      <td>0.05</td>\n",
              "      <td>0.0</td>\n",
              "      <td>0.0</td>\n",
              "      <td>0.0</td>\n",
              "      <td>0.0</td>\n",
              "      <td>normal.</td>\n",
              "    </tr>\n",
              "  </tbody>\n",
              "</table>\n",
              "<p>10 rows × 42 columns</p>\n",
              "</div>\n",
              "    <div class=\"colab-df-buttons\">\n",
              "\n",
              "  <div class=\"colab-df-container\">\n",
              "    <button class=\"colab-df-convert\" onclick=\"convertToInteractive('df-b2450929-a1f9-4bbb-80f9-3fd075af91bb')\"\n",
              "            title=\"Convert this dataframe to an interactive table.\"\n",
              "            style=\"display:none;\">\n",
              "\n",
              "  <svg xmlns=\"http://www.w3.org/2000/svg\" height=\"24px\" viewBox=\"0 -960 960 960\">\n",
              "    <path d=\"M120-120v-720h720v720H120Zm60-500h600v-160H180v160Zm220 220h160v-160H400v160Zm0 220h160v-160H400v160ZM180-400h160v-160H180v160Zm440 0h160v-160H620v160ZM180-180h160v-160H180v160Zm440 0h160v-160H620v160Z\"/>\n",
              "  </svg>\n",
              "    </button>\n",
              "\n",
              "  <style>\n",
              "    .colab-df-container {\n",
              "      display:flex;\n",
              "      gap: 12px;\n",
              "    }\n",
              "\n",
              "    .colab-df-convert {\n",
              "      background-color: #E8F0FE;\n",
              "      border: none;\n",
              "      border-radius: 50%;\n",
              "      cursor: pointer;\n",
              "      display: none;\n",
              "      fill: #1967D2;\n",
              "      height: 32px;\n",
              "      padding: 0 0 0 0;\n",
              "      width: 32px;\n",
              "    }\n",
              "\n",
              "    .colab-df-convert:hover {\n",
              "      background-color: #E2EBFA;\n",
              "      box-shadow: 0px 1px 2px rgba(60, 64, 67, 0.3), 0px 1px 3px 1px rgba(60, 64, 67, 0.15);\n",
              "      fill: #174EA6;\n",
              "    }\n",
              "\n",
              "    .colab-df-buttons div {\n",
              "      margin-bottom: 4px;\n",
              "    }\n",
              "\n",
              "    [theme=dark] .colab-df-convert {\n",
              "      background-color: #3B4455;\n",
              "      fill: #D2E3FC;\n",
              "    }\n",
              "\n",
              "    [theme=dark] .colab-df-convert:hover {\n",
              "      background-color: #434B5C;\n",
              "      box-shadow: 0px 1px 3px 1px rgba(0, 0, 0, 0.15);\n",
              "      filter: drop-shadow(0px 1px 2px rgba(0, 0, 0, 0.3));\n",
              "      fill: #FFFFFF;\n",
              "    }\n",
              "  </style>\n",
              "\n",
              "    <script>\n",
              "      const buttonEl =\n",
              "        document.querySelector('#df-b2450929-a1f9-4bbb-80f9-3fd075af91bb button.colab-df-convert');\n",
              "      buttonEl.style.display =\n",
              "        google.colab.kernel.accessAllowed ? 'block' : 'none';\n",
              "\n",
              "      async function convertToInteractive(key) {\n",
              "        const element = document.querySelector('#df-b2450929-a1f9-4bbb-80f9-3fd075af91bb');\n",
              "        const dataTable =\n",
              "          await google.colab.kernel.invokeFunction('convertToInteractive',\n",
              "                                                    [key], {});\n",
              "        if (!dataTable) return;\n",
              "\n",
              "        const docLinkHtml = 'Like what you see? Visit the ' +\n",
              "          '<a target=\"_blank\" href=https://colab.research.google.com/notebooks/data_table.ipynb>data table notebook</a>'\n",
              "          + ' to learn more about interactive tables.';\n",
              "        element.innerHTML = '';\n",
              "        dataTable['output_type'] = 'display_data';\n",
              "        await google.colab.output.renderOutput(dataTable, element);\n",
              "        const docLink = document.createElement('div');\n",
              "        docLink.innerHTML = docLinkHtml;\n",
              "        element.appendChild(docLink);\n",
              "      }\n",
              "    </script>\n",
              "  </div>\n",
              "\n",
              "\n",
              "<div id=\"df-3fc32673-db05-43c9-bd8a-79ae39c23d7b\">\n",
              "  <button class=\"colab-df-quickchart\" onclick=\"quickchart('df-3fc32673-db05-43c9-bd8a-79ae39c23d7b')\"\n",
              "            title=\"Suggest charts\"\n",
              "            style=\"display:none;\">\n",
              "\n",
              "<svg xmlns=\"http://www.w3.org/2000/svg\" height=\"24px\"viewBox=\"0 0 24 24\"\n",
              "     width=\"24px\">\n",
              "    <g>\n",
              "        <path d=\"M19 3H5c-1.1 0-2 .9-2 2v14c0 1.1.9 2 2 2h14c1.1 0 2-.9 2-2V5c0-1.1-.9-2-2-2zM9 17H7v-7h2v7zm4 0h-2V7h2v10zm4 0h-2v-4h2v4z\"/>\n",
              "    </g>\n",
              "</svg>\n",
              "  </button>\n",
              "\n",
              "<style>\n",
              "  .colab-df-quickchart {\n",
              "      --bg-color: #E8F0FE;\n",
              "      --fill-color: #1967D2;\n",
              "      --hover-bg-color: #E2EBFA;\n",
              "      --hover-fill-color: #174EA6;\n",
              "      --disabled-fill-color: #AAA;\n",
              "      --disabled-bg-color: #DDD;\n",
              "  }\n",
              "\n",
              "  [theme=dark] .colab-df-quickchart {\n",
              "      --bg-color: #3B4455;\n",
              "      --fill-color: #D2E3FC;\n",
              "      --hover-bg-color: #434B5C;\n",
              "      --hover-fill-color: #FFFFFF;\n",
              "      --disabled-bg-color: #3B4455;\n",
              "      --disabled-fill-color: #666;\n",
              "  }\n",
              "\n",
              "  .colab-df-quickchart {\n",
              "    background-color: var(--bg-color);\n",
              "    border: none;\n",
              "    border-radius: 50%;\n",
              "    cursor: pointer;\n",
              "    display: none;\n",
              "    fill: var(--fill-color);\n",
              "    height: 32px;\n",
              "    padding: 0;\n",
              "    width: 32px;\n",
              "  }\n",
              "\n",
              "  .colab-df-quickchart:hover {\n",
              "    background-color: var(--hover-bg-color);\n",
              "    box-shadow: 0 1px 2px rgba(60, 64, 67, 0.3), 0 1px 3px 1px rgba(60, 64, 67, 0.15);\n",
              "    fill: var(--button-hover-fill-color);\n",
              "  }\n",
              "\n",
              "  .colab-df-quickchart-complete:disabled,\n",
              "  .colab-df-quickchart-complete:disabled:hover {\n",
              "    background-color: var(--disabled-bg-color);\n",
              "    fill: var(--disabled-fill-color);\n",
              "    box-shadow: none;\n",
              "  }\n",
              "\n",
              "  .colab-df-spinner {\n",
              "    border: 2px solid var(--fill-color);\n",
              "    border-color: transparent;\n",
              "    border-bottom-color: var(--fill-color);\n",
              "    animation:\n",
              "      spin 1s steps(1) infinite;\n",
              "  }\n",
              "\n",
              "  @keyframes spin {\n",
              "    0% {\n",
              "      border-color: transparent;\n",
              "      border-bottom-color: var(--fill-color);\n",
              "      border-left-color: var(--fill-color);\n",
              "    }\n",
              "    20% {\n",
              "      border-color: transparent;\n",
              "      border-left-color: var(--fill-color);\n",
              "      border-top-color: var(--fill-color);\n",
              "    }\n",
              "    30% {\n",
              "      border-color: transparent;\n",
              "      border-left-color: var(--fill-color);\n",
              "      border-top-color: var(--fill-color);\n",
              "      border-right-color: var(--fill-color);\n",
              "    }\n",
              "    40% {\n",
              "      border-color: transparent;\n",
              "      border-right-color: var(--fill-color);\n",
              "      border-top-color: var(--fill-color);\n",
              "    }\n",
              "    60% {\n",
              "      border-color: transparent;\n",
              "      border-right-color: var(--fill-color);\n",
              "    }\n",
              "    80% {\n",
              "      border-color: transparent;\n",
              "      border-right-color: var(--fill-color);\n",
              "      border-bottom-color: var(--fill-color);\n",
              "    }\n",
              "    90% {\n",
              "      border-color: transparent;\n",
              "      border-bottom-color: var(--fill-color);\n",
              "    }\n",
              "  }\n",
              "</style>\n",
              "\n",
              "  <script>\n",
              "    async function quickchart(key) {\n",
              "      const quickchartButtonEl =\n",
              "        document.querySelector('#' + key + ' button');\n",
              "      quickchartButtonEl.disabled = true;  // To prevent multiple clicks.\n",
              "      quickchartButtonEl.classList.add('colab-df-spinner');\n",
              "      try {\n",
              "        const charts = await google.colab.kernel.invokeFunction(\n",
              "            'suggestCharts', [key], {});\n",
              "      } catch (error) {\n",
              "        console.error('Error during call to suggestCharts:', error);\n",
              "      }\n",
              "      quickchartButtonEl.classList.remove('colab-df-spinner');\n",
              "      quickchartButtonEl.classList.add('colab-df-quickchart-complete');\n",
              "    }\n",
              "    (() => {\n",
              "      let quickchartButtonEl =\n",
              "        document.querySelector('#df-3fc32673-db05-43c9-bd8a-79ae39c23d7b button');\n",
              "      quickchartButtonEl.style.display =\n",
              "        google.colab.kernel.accessAllowed ? 'block' : 'none';\n",
              "    })();\n",
              "  </script>\n",
              "</div>\n",
              "\n",
              "    </div>\n",
              "  </div>\n"
            ],
            "application/vnd.google.colaboratory.intrinsic+json": {
              "type": "dataframe",
              "variable_name": "train"
            }
          },
          "metadata": {},
          "execution_count": 31
        }
      ],
      "source": [
        "train.head(n=10)"
      ]
    },
    {
      "cell_type": "markdown",
      "metadata": {
        "id": "dffgEHmvWWiy"
      },
      "source": [
        "В выборке метками $\\{-1, 1\\}$ обозначены аномальныe и нормальные наблюдения. Посмотрим на гистограмму классов:"
      ]
    },
    {
      "cell_type": "code",
      "execution_count": null,
      "metadata": {
        "id": "v1mM96__WWiz",
        "colab": {
          "base_uri": "https://localhost:8080/",
          "height": 430
        },
        "outputId": "b715033c-26ba-47a5-a896-f94852bb79f0"
      },
      "outputs": [
        {
          "output_type": "display_data",
          "data": {
            "text/plain": [
              "<Figure size 640x480 with 1 Axes>"
            ],
            "image/png": "[encoded data removed]"
          },
          "metadata": {}
        }
      ],
      "source": [
        "y_train = (train['normal.'] == 'normal.') * 2 - 1\n",
        "plt.hist(y_train, density=True);\n",
        "plt.grid(True)"
      ]
    },
    {
      "cell_type": "markdown",
      "metadata": {
        "id": "1CKxAUeBWWiz"
      },
      "source": [
        "«Отрежем» не нужные для обучения колонки и целевую переменную."
      ]
    },
    {
      "cell_type": "code",
      "execution_count": null,
      "metadata": {
        "id": "B43ud9oKWWiz"
      },
      "outputs": [],
      "source": [
        "X_train = train.drop(train.columns[[0, 1, 2, 3, 41]], axis=1)\n",
        "y_train = y_train"
      ]
    },
    {
      "cell_type": "markdown",
      "metadata": {
        "id": "k9SXn3xOWWiz"
      },
      "source": [
        "Посмотрим на признаки. Самый простой способ оценить их качество — это посчитать дисперсию:"
      ]
    },
    {
      "cell_type": "code",
      "execution_count": null,
      "metadata": {
        "id": "mZyY5iigWWiz",
        "outputId": "1ad19137-c4d1-42b5-f3ca-e7e27965969e",
        "colab": {
          "base_uri": "https://localhost:8080/",
          "height": 1000
        }
      },
      "outputs": [
        {
          "output_type": "execute_result",
          "data": {
            "text/plain": [
              "181        9.765770e+11\n",
              "5450       1.091644e+09\n",
              "0.1        4.453072e-05\n",
              "0.2        1.817249e-02\n",
              "0.3        3.036300e-05\n",
              "0.4        6.116857e-01\n",
              "0.5        2.408584e-04\n",
              "1          1.262687e-01\n",
              "0.6        3.233984e+00\n",
              "0.7        1.113194e-04\n",
              "0.8        6.072508e-05\n",
              "0.9        4.051043e+00\n",
              "0.10       9.296040e-03\n",
              "0.12       1.214409e-04\n",
              "0.13       1.330916e-03\n",
              "0.14       0.000000e+00\n",
              "0.15       0.000000e+00\n",
              "0.16       1.384664e-03\n",
              "8          4.543170e+04\n",
              "8.1        6.067489e+04\n",
              "0.00       1.449456e-01\n",
              "0.00.1     1.451739e-01\n",
              "0.00.2     5.364954e-02\n",
              "0.00.3     5.389232e-02\n",
              "1.00       1.506913e-01\n",
              "0.00.4     6.757756e-03\n",
              "0.00.5     2.027708e-02\n",
              "9          4.191872e+03\n",
              "9.1        1.124453e+04\n",
              "1.00.1     1.687412e-01\n",
              "0.00.6     1.193758e-02\n",
              "0.11       2.316586e-01\n",
              "0.00.7     1.775183e-03\n",
              "0.00.8     1.448513e-01\n",
              "0.00.9     1.450999e-01\n",
              "0.00.10    5.317162e-02\n",
              "0.00.11    5.296467e-02\n",
              "dtype: float64"
            ],
            "text/html": [
              "<div>\n",
              "<style scoped>\n",
              "    .dataframe tbody tr th:only-of-type {\n",
              "        vertical-align: middle;\n",
              "    }\n",
              "\n",
              "    .dataframe tbody tr th {\n",
              "        vertical-align: top;\n",
              "    }\n",
              "\n",
              "    .dataframe thead th {\n",
              "        text-align: right;\n",
              "    }\n",
              "</style>\n",
              "<table border=\"1\" class=\"dataframe\">\n",
              "  <thead>\n",
              "    <tr style=\"text-align: right;\">\n",
              "      <th></th>\n",
              "      <th>0</th>\n",
              "    </tr>\n",
              "  </thead>\n",
              "  <tbody>\n",
              "    <tr>\n",
              "      <th>181</th>\n",
              "      <td>9.765770e+11</td>\n",
              "    </tr>\n",
              "    <tr>\n",
              "      <th>5450</th>\n",
              "      <td>1.091644e+09</td>\n",
              "    </tr>\n",
              "    <tr>\n",
              "      <th>0.1</th>\n",
              "      <td>4.453072e-05</td>\n",
              "    </tr>\n",
              "    <tr>\n",
              "      <th>0.2</th>\n",
              "      <td>1.817249e-02</td>\n",
              "    </tr>\n",
              "    <tr>\n",
              "      <th>0.3</th>\n",
              "      <td>3.036300e-05</td>\n",
              "    </tr>\n",
              "    <tr>\n",
              "      <th>0.4</th>\n",
              "      <td>6.116857e-01</td>\n",
              "    </tr>\n",
              "    <tr>\n",
              "      <th>0.5</th>\n",
              "      <td>2.408584e-04</td>\n",
              "    </tr>\n",
              "    <tr>\n",
              "      <th>1</th>\n",
              "      <td>1.262687e-01</td>\n",
              "    </tr>\n",
              "    <tr>\n",
              "      <th>0.6</th>\n",
              "      <td>3.233984e+00</td>\n",
              "    </tr>\n",
              "    <tr>\n",
              "      <th>0.7</th>\n",
              "      <td>1.113194e-04</td>\n",
              "    </tr>\n",
              "    <tr>\n",
              "      <th>0.8</th>\n",
              "      <td>6.072508e-05</td>\n",
              "    </tr>\n",
              "    <tr>\n",
              "      <th>0.9</th>\n",
              "      <td>4.051043e+00</td>\n",
              "    </tr>\n",
              "    <tr>\n",
              "      <th>0.10</th>\n",
              "      <td>9.296040e-03</td>\n",
              "    </tr>\n",
              "    <tr>\n",
              "      <th>0.12</th>\n",
              "      <td>1.214409e-04</td>\n",
              "    </tr>\n",
              "    <tr>\n",
              "      <th>0.13</th>\n",
              "      <td>1.330916e-03</td>\n",
              "    </tr>\n",
              "    <tr>\n",
              "      <th>0.14</th>\n",
              "      <td>0.000000e+00</td>\n",
              "    </tr>\n",
              "    <tr>\n",
              "      <th>0.15</th>\n",
              "      <td>0.000000e+00</td>\n",
              "    </tr>\n",
              "    <tr>\n",
              "      <th>0.16</th>\n",
              "      <td>1.384664e-03</td>\n",
              "    </tr>\n",
              "    <tr>\n",
              "      <th>8</th>\n",
              "      <td>4.543170e+04</td>\n",
              "    </tr>\n",
              "    <tr>\n",
              "      <th>8.1</th>\n",
              "      <td>6.067489e+04</td>\n",
              "    </tr>\n",
              "    <tr>\n",
              "      <th>0.00</th>\n",
              "      <td>1.449456e-01</td>\n",
              "    </tr>\n",
              "    <tr>\n",
              "      <th>0.00.1</th>\n",
              "      <td>1.451739e-01</td>\n",
              "    </tr>\n",
              "    <tr>\n",
              "      <th>0.00.2</th>\n",
              "      <td>5.364954e-02</td>\n",
              "    </tr>\n",
              "    <tr>\n",
              "      <th>0.00.3</th>\n",
              "      <td>5.389232e-02</td>\n",
              "    </tr>\n",
              "    <tr>\n",
              "      <th>1.00</th>\n",
              "      <td>1.506913e-01</td>\n",
              "    </tr>\n",
              "    <tr>\n",
              "      <th>0.00.4</th>\n",
              "      <td>6.757756e-03</td>\n",
              "    </tr>\n",
              "    <tr>\n",
              "      <th>0.00.5</th>\n",
              "      <td>2.027708e-02</td>\n",
              "    </tr>\n",
              "    <tr>\n",
              "      <th>9</th>\n",
              "      <td>4.191872e+03</td>\n",
              "    </tr>\n",
              "    <tr>\n",
              "      <th>9.1</th>\n",
              "      <td>1.124453e+04</td>\n",
              "    </tr>\n",
              "    <tr>\n",
              "      <th>1.00.1</th>\n",
              "      <td>1.687412e-01</td>\n",
              "    </tr>\n",
              "    <tr>\n",
              "      <th>0.00.6</th>\n",
              "      <td>1.193758e-02</td>\n",
              "    </tr>\n",
              "    <tr>\n",
              "      <th>0.11</th>\n",
              "      <td>2.316586e-01</td>\n",
              "    </tr>\n",
              "    <tr>\n",
              "      <th>0.00.7</th>\n",
              "      <td>1.775183e-03</td>\n",
              "    </tr>\n",
              "    <tr>\n",
              "      <th>0.00.8</th>\n",
              "      <td>1.448513e-01</td>\n",
              "    </tr>\n",
              "    <tr>\n",
              "      <th>0.00.9</th>\n",
              "      <td>1.450999e-01</td>\n",
              "    </tr>\n",
              "    <tr>\n",
              "      <th>0.00.10</th>\n",
              "      <td>5.317162e-02</td>\n",
              "    </tr>\n",
              "    <tr>\n",
              "      <th>0.00.11</th>\n",
              "      <td>5.296467e-02</td>\n",
              "    </tr>\n",
              "  </tbody>\n",
              "</table>\n",
              "</div><br><label><b>dtype:</b> float64</label>"
            ]
          },
          "metadata": {},
          "execution_count": 34
        }
      ],
      "source": [
        "X_train.var()"
      ]
    },
    {
      "cell_type": "code",
      "execution_count": null,
      "metadata": {
        "id": "irMwQ_5iWWiz",
        "outputId": "1d090db6-3105-46a8-b47a-bb6c57f439c4",
        "colab": {
          "base_uri": "https://localhost:8080/"
        }
      },
      "outputs": [
        {
          "output_type": "execute_result",
          "data": {
            "text/plain": [
              "(494020, 37)"
            ]
          },
          "metadata": {},
          "execution_count": 35
        }
      ],
      "source": [
        "X_train.shape"
      ]
    },
    {
      "cell_type": "markdown",
      "metadata": {
        "id": "04LQ3OLuWWiz"
      },
      "source": [
        "Видим, что есть два константных признака. Их можно удалить:"
      ]
    },
    {
      "cell_type": "code",
      "execution_count": null,
      "metadata": {
        "id": "Cp2HrIoRWWiz"
      },
      "outputs": [],
      "source": [
        "idx = np.where(X_train.var() == 0)[0]\n",
        "cols = X_train.columns[idx]\n",
        "X_train.drop(cols, axis=1, inplace=True)"
      ]
    },
    {
      "cell_type": "markdown",
      "metadata": {
        "id": "5opSaE2RWWiz"
      },
      "source": [
        "Следующее, что можно сделать, это посмотреть попарные корреляции признаков:"
      ]
    },
    {
      "cell_type": "code",
      "execution_count": null,
      "metadata": {
        "id": "H0pghAjeWWiz",
        "outputId": "e1cc4faa-15af-4851-98c1-45181ed50213",
        "colab": {
          "base_uri": "https://localhost:8080/",
          "height": 454
        }
      },
      "outputs": [
        {
          "output_type": "display_data",
          "data": {
            "text/plain": [
              "<Figure size 500x500 with 0 Axes>"
            ]
          },
          "metadata": {}
        },
        {
          "output_type": "display_data",
          "data": {
            "text/plain": [
              "<Figure size 480x480 with 1 Axes>"
            ],
            "image/png": "[encoded data removed]"
          },
          "metadata": {}
        }
      ],
      "source": [
        "plt.figure(figsize=(5,5));\n",
        "plt.matshow(X_train.corr());"
      ]
    },
    {
      "cell_type": "markdown",
      "metadata": {
        "id": "M4FRqtIRWWiz"
      },
      "source": [
        "Такая структура обещает эффективное снижение размерности. Почему?"
      ]
    },
    {
      "cell_type": "markdown",
      "source": [
        "Визуально видно, что матрица содержит несколько \"блоков\" жёлтого цвета вдоль главной диагонали. Это означает, что внутри каждой группы признаки сильно коррелируют друг с другом. Такие признаки, как правило, содержат избыточную информацию, и вместо них можно использовать одну или несколько обобщённых компонент"
      ],
      "metadata": {
        "id": "5jljYdv_34vo"
      }
    },
    {
      "cell_type": "markdown",
      "metadata": {
        "id": "lNt8hidKWWiz"
      },
      "source": [
        "### Задание 1\n",
        "Оцените с помощью `randomized SVD` количество компонент достаточных для сжатия и дальнейшего ускорения обучения. (`randomized SVD` - быстрый способ оценки количества компонент)"
      ]
    },
    {
      "cell_type": "code",
      "execution_count": null,
      "metadata": {
        "id": "Fu5wUWitWWiz",
        "colab": {
          "base_uri": "https://localhost:8080/",
          "height": 487
        },
        "outputId": "72dee95f-238d-4aed-d83d-64a8363575c6"
      },
      "outputs": [
        {
          "output_type": "display_data",
          "data": {
            "text/plain": [
              "<Figure size 800x500 with 1 Axes>"
            ],
            "image/png": "[encoded data removed]"
          },
          "metadata": {}
        }
      ],
      "source": [
        "X_train = np.array(X_train)\n",
        "\n",
        "look_on_components = 50\n",
        "\n",
        "U, Sigma, VT = randomized_svd(X_train,\n",
        "                              n_components=look_on_components,\n",
        "                              random_state=42)\n",
        "\n",
        "plt.figure(figsize=(8,5))\n",
        "plt.plot(Sigma, marker='o')\n",
        "plt.title(\"Сингулярные значения (SVD)\")\n",
        "plt.xlabel(\"Номер сингулярного значения\")\n",
        "plt.ylabel(\"Величина сингулярного значения\")\n",
        "plt.grid(True)\n",
        "plt.show()\n"
      ]
    },
    {
      "cell_type": "markdown",
      "metadata": {
        "id": "VhiS8arEWWiz"
      },
      "source": [
        "### Задание 2\n",
        "\n",
        "Выберите количество компонент для сжатия и примените **truncated SVD**"
      ]
    },
    {
      "cell_type": "code",
      "execution_count": null,
      "metadata": {
        "id": "hvaXvKkNWWiz",
        "colab": {
          "base_uri": "https://localhost:8080/"
        },
        "outputId": "9bab6591-afe3-4fa5-9640-c544768516e5"
      },
      "outputs": [
        {
          "output_type": "stream",
          "name": "stdout",
          "text": [
            "Исходная размерность: (494020, 35)\n",
            "Размерность после сжатия: (494020, 1)\n"
          ]
        }
      ],
      "source": [
        "from sklearn.decomposition import TruncatedSVD\n",
        "\n",
        "model = TruncatedSVD(n_components=1, random_state=42)\n",
        "\n",
        "X_train_proj = model.fit_transform(X_train)\n",
        "print(\"Исходная размерность:\", X_train.shape)\n",
        "print(\"Размерность после сжатия:\", X_train_proj.shape)\n"
      ]
    },
    {
      "cell_type": "markdown",
      "metadata": {
        "id": "HdxS63MWWWiz"
      },
      "source": [
        "### Задание 3\n",
        "\n",
        "Проведите подбор параметров $\\nu$ и $\\gamma$ для модели OneClassSVM.\n",
        "\n",
        "Подбор сразу двух параметров может быть затруднен с вычислительной точки зрения (занимает много времени на слабых ПК). В таком случае возможны два выхода:\n",
        "\n",
        "1) Проводить раздельный подбор гиперпараматров. Сначала поиск по $\\nu$, затем при оптимальном $\\nu_{opt}$ провести поиск по $\\gamma$\n",
        "\n",
        "2) Уменьшить размер датасета\n",
        "\n",
        "Поиск параметров предлагается провести в следующей области параметров:\n",
        "\n",
        "$\\nu$: [0.5,1]\n",
        "\n",
        "$\\gamma$: [0.1, 1]\n"
      ]
    },
    {
      "cell_type": "code",
      "execution_count": null,
      "metadata": {
        "id": "juDL7ETuWWiz",
        "colab": {
          "base_uri": "https://localhost:8080/"
        },
        "outputId": "703f8597-31ea-437e-d49a-b0f7acfb1ffb"
      },
      "outputs": [
        {
          "output_type": "stream",
          "name": "stdout",
          "text": [
            "(494020, 1)\n",
            "(494020, 1)\n"
          ]
        }
      ],
      "source": [
        "subsample_N = X_train_proj.shape[0]\n",
        "\n",
        "X_subsample = X_train_proj[0:subsample_N]\n",
        "y_subsample = y_train[0:subsample_N]\n",
        "\n",
        "print(X_train_proj.shape)\n",
        "print(X_subsample.shape)"
      ]
    },
    {
      "cell_type": "markdown",
      "metadata": {
        "id": "bf_n-Q0ZWWiz"
      },
      "source": [
        "#### Проведем поиск по первому параметру $\\nu$:"
      ]
    },
    {
      "cell_type": "code",
      "execution_count": null,
      "metadata": {
        "id": "Litn6stuWWiz",
        "colab": {
          "base_uri": "https://localhost:8080/"
        },
        "outputId": "63362661-83cd-4a51-e18e-7479aef48d8f"
      },
      "outputs": [
        {
          "output_type": "stream",
          "name": "stdout",
          "text": [
            "Проверенные значения nu:      [0.1 0.2 0.3]\n",
            "Соответствующие accuracy:  [0.837 0.784 0.661]\n",
            "Оптимальное nu: 0.1\n"
          ]
        }
      ],
      "source": [
        "from sklearn.svm import OneClassSVM\n",
        "from sklearn.model_selection import GridSearchCV\n",
        "from sklearn.metrics import make_scorer, accuracy_score\n",
        "\n",
        "subsample_N = 10000\n",
        "X_subsample = X_train_proj[:subsample_N]\n",
        "y_subsample = y_train[:subsample_N]\n",
        "\n",
        "scores = {\n",
        "    'accuracy_score': make_scorer(accuracy_score)\n",
        "}\n",
        "\n",
        "param_grid_nu = {\n",
        "    'nu': [0.1, 0.2, 0.3]\n",
        "}\n",
        "\n",
        "model_nu = OneClassSVM(kernel='rbf', gamma='scale')\n",
        "\n",
        "search_nu = GridSearchCV(\n",
        "    model_nu,\n",
        "    param_grid_nu,\n",
        "    scoring=scores,\n",
        "    n_jobs=-1,\n",
        "    cv=2,\n",
        "    refit='accuracy_score'\n",
        ")\n",
        "\n",
        "search_nu.fit(X_subsample, y_subsample)\n",
        "\n",
        "print(\"Проверенные значения nu:     \", search_nu.cv_results_['param_nu'].data)\n",
        "print(\"Соответствующие accuracy: \", search_nu.cv_results_['mean_test_accuracy_score'])\n",
        "\n",
        "all_scores = search_nu.cv_results_['mean_test_accuracy_score']\n",
        "all_nus    = search_nu.cv_results_['param_nu'].data\n",
        "\n",
        "mask_nu_neq_1 = (all_nus != 1.0)\n",
        "best_idx = np.argmax(all_scores[mask_nu_neq_1])\n",
        "nu_opt = all_nus[mask_nu_neq_1][best_idx]\n",
        "\n",
        "print(\"Оптимальное nu:\", nu_opt)\n"
      ]
    },
    {
      "cell_type": "code",
      "source": [
        "param_grid_gamma = {\n",
        "    'gamma': [0.001, 0.01, 0.1]\n",
        "}\n",
        "\n",
        "model_gamma = OneClassSVM(kernel='rbf', nu=nu_opt)\n",
        "\n",
        "search_gamma = GridSearchCV(\n",
        "    model_gamma,\n",
        "    param_grid_gamma,\n",
        "    scoring=scores,\n",
        "    n_jobs=-1,\n",
        "    cv=2,\n",
        "    refit='accuracy_score'\n",
        ")\n",
        "\n",
        "search_gamma.fit(X_subsample, y_subsample)\n",
        "\n",
        "print(\"Проверенные значения gamma:     \", search_gamma.cv_results_['param_gamma'].data)\n",
        "print(\"Соответствующие accuracy: \", search_gamma.cv_results_['mean_test_accuracy_score'])\n",
        "\n",
        "best_idx_gamma = np.argmax(search_gamma.cv_results_['mean_test_accuracy_score'])\n",
        "gamma_opt = search_gamma.cv_results_['param_gamma'].data[best_idx_gamma]\n",
        "\n",
        "print(\"Оптимальное gamma:\", gamma_opt)\n"
      ],
      "metadata": {
        "colab": {
          "base_uri": "https://localhost:8080/"
        },
        "id": "FRQEBa57tMhT",
        "outputId": "c09e0ecc-de76-481e-b260-ea6554c33efe"
      },
      "execution_count": null,
      "outputs": [
        {
          "output_type": "stream",
          "name": "stdout",
          "text": [
            "Проверенные значения gamma:      [0.001 0.01  0.1  ]\n",
            "Соответствующие accuracy:  [0.671 0.513 0.47 ]\n",
            "Оптимальное gamma: 0.001\n"
          ]
        }
      ]
    },
    {
      "cell_type": "markdown",
      "metadata": {
        "id": "oJSa1cZMWWi0"
      },
      "source": [
        "Теперь необходимо подобрать $\\gamma$. Оптимальнее конечно было бы подбирать сразу оба параметра, но если это невозможно для ваших ресурсов в силу вычислительной сложности, то проведите отдельный поиск $\\gamma$ при найденном ранее $\\nu_{opt}$."
      ]
    },
    {
      "cell_type": "markdown",
      "metadata": {
        "id": "Ov6KDQRWWWi0"
      },
      "source": [
        "# Задание\n",
        "+ Используя кроссвалидацию, оценить качество определения аномальных наблюдений с помощью обученной модели `One-Class SVM`\n",
        "+ Исследовать зависимость этого качества от параметров метода (ширина ядра, доля выбросов в модели, задаваемая параметром $\\nu$)"
      ]
    },
    {
      "cell_type": "code",
      "execution_count": null,
      "metadata": {
        "id": "L3AxX-dWWWi0",
        "colab": {
          "base_uri": "https://localhost:8080/"
        },
        "outputId": "2a35c96a-a6fc-46cb-d74c-7520d9eb5783"
      },
      "outputs": [
        {
          "output_type": "stream",
          "name": "stdout",
          "text": [
            "Лучшие параметры: {'gamma': 0.001, 'nu': 0.1}\n",
            "Лучший accuracy: 0.907\n"
          ]
        }
      ],
      "source": [
        "import numpy as np\n",
        "from sklearn.svm import OneClassSVM\n",
        "from sklearn.model_selection import GridSearchCV\n",
        "from sklearn.metrics import make_scorer, accuracy_score, f1_score\n",
        "\n",
        "param_grid = {\n",
        "    'nu': [0.1, 0.2, 0.3],\n",
        "    'gamma': [0.001, 0.01, 0.1]\n",
        "}\n",
        "\n",
        "model = OneClassSVM(kernel='poly')\n",
        "\n",
        "scoring = {\n",
        "    'accuracy': make_scorer(accuracy_score),\n",
        "    'f1': make_scorer(f1_score, pos_label=1)\n",
        "}\n",
        "\n",
        "search = GridSearchCV(\n",
        "    model,\n",
        "    param_grid,\n",
        "    scoring=scoring,\n",
        "    n_jobs=-1,\n",
        "    cv=2,\n",
        "    refit='accuracy'\n",
        ")\n",
        "\n",
        "search.fit(X_subsample, y_subsample)\n",
        "\n",
        "print(\"Лучшие параметры:\", search.best_params_)\n",
        "print(\"Лучший accuracy:\", search.best_score_)\n",
        "\n",
        "results = search.cv_results_\n"
      ]
    }
  ],
  "metadata": {
    "kernelspec": {
      "display_name": "Python 3",
      "name": "python3"
    },
    "language_info": {
      "codemirror_mode": {
        "name": "ipython",
        "version": 3
      },
      "file_extension": ".py",
      "mimetype": "text/x-python",
      "name": "python",
      "nbconvert_exporter": "python",
      "pygments_lexer": "ipython3",
      "version": "3.9.5"
    },
    "colab": {
      "provenance": [],
      "gpuType": "T4"
    },
    "accelerator": "GPU"
  },
  "nbformat": 4,
  "nbformat_minor": 0
}